{
  "cells": [
    {
      "cell_type": "markdown",
      "metadata": {
        "id": "view-in-github",
        "colab_type": "text"
      },
      "source": [
        "<a href=\"https://colab.research.google.com/github/mar7i4ka/AI-Agent-Models/blob/main/Knowledge_based_Problem_Solving.ipynb\" target=\"_parent\"><img src=\"https://colab.research.google.com/assets/colab-badge.svg\" alt=\"Open In Colab\"/></a>"
      ]
    },
    {
      "cell_type": "code",
      "source": [
        "# Maze\n",
        "width = 6\n",
        "height = 5\n",
        "start = (0, 0)\n",
        "goal = (4, 5)\n",
        "obstacles = {(0,3), (1,1), (1,4), (2,2), (3,0), (3,3)}\n",
        "\n",
        "#Heuristic values\n",
        "def manhattan(p, q):\n",
        "    return abs(p[0] - q[0]) + abs(p[1] - q[1])\n",
        "\n",
        "h = {}\n",
        "for x in range(height):\n",
        "    for y in range(width):\n",
        "        h[(x, y)] = manhattan((x, y), goal)\n",
        "\n",
        "#Neighbours (adjacency) ignoring walls and obstacles\n",
        "def neighbours(position):\n",
        "    x, y = position\n",
        "    steps = [(1,0), (-1,0), (0,1), (0,-1)]\n",
        "    for dx, dy in steps:\n",
        "        nx, ny = x + dx, y + dy\n",
        "        if 0 <= nx < height and 0 <= ny < width: # в границите на лабиринта\n",
        "            if (nx, ny) not in obstacles: # не е препятствие\n",
        "                yield (nx, ny)\n",
        "\n",
        "#A* Search\n",
        "import heapq #опашка в която функциите които предстои да бъдато бработени се записват\n",
        "\n",
        "def a_star():\n",
        "    frontier = []  # (f score, node)\n",
        "    heapq.heappush(frontier, (h[start], start))\n",
        "    came_from = {start: None}\n",
        "    cost_so_far = {start: 0}\n",
        "\n",
        "    while frontier:\n",
        "        _, current = heapq.heappop(frontier)\n",
        "\n",
        "        if current == goal:\n",
        "            path = []\n",
        "            while current is not None:\n",
        "                path.append(current)\n",
        "                current = came_from[current]\n",
        "            return list(reversed(path))\n",
        "\n",
        "        for neighbor in neighbours(current):\n",
        "            new_cost = cost_so_far[current] + 1\n",
        "            if neighbor not in cost_so_far or new_cost < cost_so_far[neighbor]:\n",
        "                cost_so_far[neighbor] = new_cost\n",
        "                priority = new_cost + h[neighbor]\n",
        "                heapq.heappush(frontier, (priority, neighbor))\n",
        "                came_from[neighbor] = current\n",
        "    return None\n",
        "\n",
        "#Minimal unifier for ground terms (Task 7)\n",
        "def unify(a, b):\n",
        "    if a == b:\n",
        "        return {}\n",
        "    return None\n",
        "\n",
        "#Show the path (Task 5)\n",
        "def show_path(path):\n",
        "    print(\"Derived path facts:\")\n",
        "    for i, p in enumerate(path):\n",
        "        print(f\"  {i}: Path({p})\")\n",
        "    print(\"Success! Goal reached.\")\n",
        "\n",
        "#Unification (Task 7)\n",
        "def show_unification():\n",
        "    print(\"\\nUnification example:\")\n",
        "    t1 = (\"Parent\", \"x\", \"y\")\n",
        "    t2 = (\"Parent\", \"John\", \"y\")\n",
        "    result = unify(t1, t2)\n",
        "    print(f\"Unify {t1} with {t2} => {result}\")\n",
        "\n",
        "#Main\n",
        "if __name__ == \"__main__\":\n",
        "    path = a_star()\n",
        "    if path:\n",
        "        show_path(path)\n",
        "    else:\n",
        "        print(\"No path found.\")\n",
        "    show_unification()\n"
      ],
      "metadata": {
        "colab": {
          "base_uri": "https://localhost:8080/"
        },
        "id": "JMB63HHfdpkx",
        "outputId": "63d14ee7-439a-443d-cf96-3d67bc30829c"
      },
      "id": "JMB63HHfdpkx",
      "execution_count": null,
      "outputs": [
        {
          "output_type": "stream",
          "name": "stdout",
          "text": [
            "Derived path facts:\n",
            "  0: Path((0, 0))\n",
            "  1: Path((0, 1))\n",
            "  2: Path((0, 2))\n",
            "  3: Path((1, 2))\n",
            "  4: Path((1, 3))\n",
            "  5: Path((2, 3))\n",
            "  6: Path((2, 4))\n",
            "  7: Path((2, 5))\n",
            "  8: Path((3, 5))\n",
            "  9: Path((4, 5))\n",
            "Success! Goal reached.\n",
            "\n",
            "Unification example:\n",
            "Unify ('Parent', 'x', 'y') with ('Parent', 'John', 'y') => None\n"
          ]
        }
      ]
    }
  ],
  "metadata": {
    "colab": {
      "provenance": [],
      "include_colab_link": true
    },
    "language_info": {
      "name": "python"
    },
    "kernelspec": {
      "name": "python3",
      "display_name": "Python 3"
    }
  },
  "nbformat": 4,
  "nbformat_minor": 5
}